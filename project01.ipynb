{
 "cells": [
  {
   "cell_type": "code",
   "execution_count": 9,
   "metadata": {},
   "outputs": [],
   "source": [
    "#Nathan Haney           text game project\n",
    "#def helpquitlower(Com:str):\n",
    "#    Com=Com.lower()\n",
    "#    if Com==\"help\" or \"Help\":\n",
    "#        print(\"Valid commands are 'delve' or 'retreat'\")\n",
    "#    if Com==\"quit\" or \"Quit\":\n",
    "        #break loop\n",
    "#        print(end)\n",
    "#    else:\n",
    "#        return Com\n",
    "def helper(ent):\n",
    "        com=input(ent)\n",
    "        print(com)\n",
    "        com.lower\n",
    "        if com==\"delve\" or com==\"retreat\" or com==\"quit\" or com==\"investigate\":\n",
    "                return com\n",
    "        else:\n",
    "                print(\"Valid commands are 'delve', 'retreat', 'investigate' or 'quit'\")\n",
    "                return helper(ent)"
   ]
  },
  {
   "cell_type": "markdown",
   "metadata": {},
   "source": [
    "That little function should allow me to avoid needing to create cases for help and quit at every step of the way, as well as having the added bonus of making the input lower case. edit- flip using functions i might as well just plop this whole thing in the loop edit again- turns out I have to do it so flip me I guess"
   ]
  },
  {
   "cell_type": "code",
   "execution_count": 10,
   "metadata": {},
   "outputs": [
    {
     "name": "stdout",
     "output_type": "stream",
     "text": [
      "In another place, in different now, and in another world, was a kingdom. In that kingdom there was a mighty hero. There was also a lowly adventurer, one that went by the name of j4 . That adventurer was, is, you. And what better thing for an adventurer to do than delve into a dungeon. And so you found one, and now here you are.\n",
      "Cave Mouth\n",
      "location 1\n",
      "you have been here 0 times\n",
      "You stand on a bit of grassy earth. In front of you looms the gaping mouth of a limestone cave.\n",
      "you have traveled 0 times\n",
      "delve\n",
      "Stone Tunnel\n",
      "location 2\n",
      "you have been here 0 times\n",
      "The cave mouth leads to exactly what you would think: a cave. It's a long, winding, tunnel leading slighly downwards.\n",
      "you have traveled 1 times\n",
      "investigate\n",
      "The outsides of the cave had been hot and lush, so it comes as no surprise to you that the rough stone of the walls is cool and slick to the touch. The path hasn't split yet, but just in case it does you begin scrapeing your knife, the only weapon you brought, along the wall, making a pale white line\n",
      "Stone Tunnel\n",
      "location 2\n",
      "you have been here 1 times\n",
      "The cave mouth leads to exactly what you would think: a cave. It's a long, winding, tunnel leading slighly downwards.\n",
      "you have traveled 1 times\n"
     ]
    }
   ],
   "source": [
    "\n",
    "\n",
    "#[Name, sequential position (1-10), have already visited, breif, 1 visit mess, next visit mess(under development)] \n",
    "\n",
    "\n",
    "a=[\"Cave Mouth\", 1, 0, \"You stand on a bit of grassy earth. In front of you looms the gaping mouth of a limestone cave.\", \"The vividity of the grass contrasts sharply with the darkness of the cave. It's maw looks ready to swallow you. Probably a good idea to strike up a torch to guide your way.\", \"You're back at the cave opening.\"]\n",
    "b=[\"Stone Tunnel\", 2, 0, \"The cave mouth leads to exactly what you would think: a cave. It's a long, winding, tunnel leading slighly downwards.\",\"The outsides of the cave had been hot and lush, so it comes as no surprise to you that the rough stone of the walls is cool and slick to the touch. The path hasn't split yet, but just in case it does you begin scrapeing your knife, the only weapon you brought, along the wall, making a pale white line\"]\n",
    "c=[\"Stone Room\", 3, 0, \"You now feel foolish for dulling your knife on the wall, as the path leads you directly to a large stone room without forking once. This room might stand to be a bit more problematic.\",\"You sprint blindly for the heavy oak door you glimpsed upon entry. You breeze past a few startled skeletons and throw the door wide, hurl yourself through, then slam it behind you. A breif struggle ensues as you attempt to bar the door as skeletal warriors attempt to batter it back open, but your streangth trumps theirs and the door is soon locked tight.\"]\n",
    "d=[\"Small Chest Room\", 4, 0,\"Ahead you see the first fork in the path, though really it's not much of one. To the right lies a hallway, this one of cut stone. To the left lies a small chamer containing what appears to be a small chest. Goodie. You head there first. \", \"The only thing in the room is the afor mentioned small chest. Looking closer you see it a wooden thing embosses withstrands of silver that just catch the flickering torchlight. Opening it you find... Absolutly nothing. How dissapointing. Guess you better go back.\"]\n",
    "e=[\"Cut Stone Hallway\", 5, 0,\"You make your way into the stone hallway. It too is slanted slightly downwards.\",\"The hallway is exactly as it appeared, a square tunnel heading further into the earth. the walls are smooth and all of one piece, the pathway cut, not built or dug. You detect a glimmer near a wall as your torchlight dances down the hallway. You approach it and see it to be a bracelet made of twined silver. You think back to the chest, perhaps this was it's contents? But no, the style doen't match. More likely someone came through here before you, took the contents of the chest, and as they walked down this hallway, decided they liked the new gear better than this.\"]\n",
    "f=[\"Underground Beach\", 6, 0,\"The hall opens onto a huge cavern, the ceiling soaring out of veiw. You hear the sound of water, and a few strides bring you to it's edge, revealing a huge underground lake, with you on the edge of it.\",\"Well ain't that something. You stand on a flat rock beach, and look about for a means to cross. Much to your joy, you find just that, a small wooden boat, large enough to make a trip but small enough to be manned by a single person. There are also marks of another boat ext to it, now gone, confirming your earlier suspicions.\"]\n",
    "g=[\"Underground Lake\", 7, 0,\"You hop in the boat, loacate a pair of oars, and push yourself off the shore. the hull grates over rough stone for just a bit until you are met will the smooth roll of the water.\",\"Nothing much of note occurs on the way over the lake, exept sailing past some large, dead sea beasts. The torch you have lashed to the bare mast just barely makes out their forms as you glide past. A shiver goes up your spine. Never have you been a fan of slimy things.\"]\n",
    "h=[\"Docks\", 8, 0,\"Your torch is beginning to gutter and you row a bit harder. Now you see a dock in the distance.\",\"You peak your head over the edge of the dock and thank whatever brave soul preceaded you here. The dock is littered with more bones of recently-deceaced skeletons, but now not a one remains. You quietly whistle a tune as you pick your way across the wooden planks and back to a stone floor.\"]\n",
    "i=[\"Stone Brick Hallway\", 9, 0,\"This stone floor belongs to another tunnel, this one finely made with large marble blocks.\",\"You gladly leave behind your dying torch; it had burned down almost to your fingers. This new passage is well lit with wall sconces burning smokelessly, and your footsteps are muted by a lush carpet running down the center of the hall. The way is also noticably devoid of corpses. Ahead you see a doorway, opening into a much larger space.\"]\n",
    "j=[\"Throne Room\", 10, 0,\"The hall leads into a huge stone brick room, richly carpeted and bedecked with tapastries. Dwarfing it all, however, sits a plush red and gold throne.\",\"The throne certainly is magnificent, but what really catches your attention is the beast that sits upon it, or rather, sat. Situated right in the center of the room is a dragon, very big, very scaly, and very dead. Your tardiness to the dungeon has once again saved you from an interesting fight. Just in front of the dragon is a plynth, a sort of stone step with an empty slit in the center. It shows signs that it was not there at the time of the dragon's demise, not being drenched in the blood that covers the majority of the rest of the room. The plynth now stands empty of the sword once sheathed within it. Unsuprising. But if they took that sword and they also show the same disregard as before... A quick look around the room reveals what you searched for. You clambor to the top of the corpse and pull from it a gleaming silver sword! Or at least it would gleam if it wern't covered in gore.\" ]\n",
    "L=[a,b,c,d,e,f,g,h,i,j]\n",
    "x=1\n",
    "y=1\n",
    "count:int=0\n",
    "I:str=\"enter I to investigate\"\n",
    "ent:str=\"Do you wish to delve further or retreat?\"#change this to \"delve\" and \"retreat\"\n",
    "name:str=input(\"Welcome to doggon delver! Please enter the name of your adventurer!\")\n",
    "end:str=\"Thank you for playing, \"+name+\"!\"\n",
    "crt=\"copyright 2022 Bullshit Inc, All rights reserved\"\n",
    "liq=a #location in question\n",
    "#let's try making a loop\n",
    "print(\"In another place, in different now, and in another world, was a kingdom. In that kingdom there was a mighty hero. There was also a lowly adventurer, one that went by the name of\",name,\". That adventurer was, is, you. And what better thing for an adventurer to do than delve into a dungeon. And so you found one, and now here you are.\")\n",
    "while(x==1):\n",
    "    pos=L.index(liq)#pos is the number index of your current location, liq being the letter name\n",
    "    print(liq[0])\n",
    "    print(\"location\", liq[1])\n",
    "    print(\"you have been here\",liq[2],\"times\")\n",
    "    liq[2]=liq[2]+1\n",
    "    if y==1:\n",
    "        print(liq[3])\n",
    "    else:\n",
    "        y=1\n",
    "    print(\"you have traveled\",count,\"times\")\n",
    "    com=helper(ent)\n",
    "    if com==\"investigate\":\n",
    "        print(liq[4])\n",
    "        count=count-1\n",
    "        y=2\n",
    "    elif com==\"quit\":\n",
    "        x=2\n",
    "    elif com==\"delve\":\n",
    "        pos=pos+1\n",
    "        liq=L[pos]\n",
    "    elif com==\"retreat\":\n",
    "        pos=pos-1\n",
    "        liq=L[pos]\n",
    "    count=count+1\n",
    "\n",
    "#if a==\"I\"or\"i\":\n",
    "#    print(\"The limestone room truly is large, and not entirely uninabitied. Bones are scattered and broken on the ground, bones very much like those of the armed skeletons that have just noticed you. Time to run. You sprint for the door but are not fast enough. You are run through with a spear and die.\")\n",
    "#if a==2:\n",
    "\n",
    "print(\"Congratulations! you have completed Doggon Delver and claimed the second best sword in the land! That will fetch quite a pretty penny.\")\n",
    "print(end)\n",
    "print(crt)"
   ]
  }
 ],
 "metadata": {
  "kernelspec": {
   "display_name": "Python 3.10.7 64-bit (microsoft store)",
   "language": "python",
   "name": "python3"
  },
  "language_info": {
   "codemirror_mode": {
    "name": "ipython",
    "version": 3
   },
   "file_extension": ".py",
   "mimetype": "text/x-python",
   "name": "python",
   "nbconvert_exporter": "python",
   "pygments_lexer": "ipython3",
   "version": "3.10.8"
  },
  "orig_nbformat": 4,
  "vscode": {
   "interpreter": {
    "hash": "6ca9a67a24c6ca2223b49791daeae19d1cc24a1555471ab8b451d6c382938fa0"
   }
  }
 },
 "nbformat": 4,
 "nbformat_minor": 2
}
